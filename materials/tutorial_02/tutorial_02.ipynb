{
 "cells": [
  {
   "cell_type": "markdown",
   "metadata": {},
   "source": [
    "# Tutorial 2: Introduction to Reading Data\n",
    "\n",
    "Any place you see `...`, you must fill in the function, variable, or data to complete the code. Replace `fail()` with your completed code and run the cell!"
   ]
  },
  {
   "cell_type": "code",
   "execution_count": null,
   "metadata": {},
   "outputs": [],
   "source": [
    "### Run this cell before continuing. \n",
    "library(tidyverse)\n",
    "library(testthat)\n",
    "library(digest)\n",
    "library(repr)\n",
    "library(rvest)\n",
    "library(stringr)"
   ]
  },
  {
   "cell_type": "markdown",
   "metadata": {},
   "source": [
    "## 1. Happiness Report\n",
    "As you might remember from worksheet_02, we practiced loading data from the *Sustainable Development Solutions Network*'s [World Happiness Report](http://worldhappiness.report/). That data was the output of their analysis that calculated the happiness score and how much each variable contributed to each countries happiness score. In the tutorial, we are going to look at the data at an earlier stage of the study - the aggregated/averaged values (per country and per year) for many different social and health aspects that the researchers anticipated might contribute to happiness (Table2.1 from [this Excel spreadsheet](https://s3.amazonaws.com/happiness-report/2018/WHR2018Chapter2OnlineData.xls)).\n",
    "\n",
    "This goal for today is to produce a plot of 2017 healthy life expectancy at birth against positive affect, where we plot healthy life expectancy at birth on the x-axis and positive affect on the y-axis. For this study positive affect was defined as the average of three positive affect measures, specifically happiness, laugh and enjoyment. We would also like to covert the positive affect score from a scale of 0 - 1, to a scale from 0 - 10.\n",
    "\n",
    "1. use `filter` to subset the rows where the year is equal to 2017\n",
    "2. use `select` to subset the \"Healthy life expectancy at birth\" and \"Positive affect\" columns \n",
    "3. use `mutate` to convert the \"Positive affect\" score from a scale of 0 - 1, to a scale from 0 - 10\n",
    "4. use `ggplot` to create our plot of \"Healthy life expectancy at birth\" (x - axis) and \"Positive affect\" (y - axis)\n",
    "\n",
    "**Hints for success:** Try going through all the steps on your own, but don't forget to talk to others (classmates, TAs, Instructor) if you need help getting unstuck. Work with different functions and if something doesn't work out, read the *error message* or use the `help()` function. Since there are a lot of steps to working and modifying data, feel free to look back at worksheet_02. "
   ]
  },
  {
   "cell_type": "markdown",
   "metadata": {
    "deletable": false,
    "editable": false,
    "nbgrader": {
     "checksum": "2174330321f9b9e0b3f6fb9539384419",
     "grade": false,
     "grade_id": "cell-eaa4671c9bc261f5",
     "locked": true,
     "schema_version": 1,
     "solution": false
    }
   },
   "source": [
    "**Question 1.1** Multiple Choice: \n",
    "\n",
    "What is the maximum value for the Positive affect score (in the original data file that you read into R)?\n",
    "\n",
    "A. 100\n",
    "\n",
    "B. 10 \n",
    "\n",
    "C. 1\n",
    "\n",
    "D. 0.1\n",
    "\n",
    "E. 5\n",
    "\n",
    "*Assign your answer to an object called `answer1`.*"
   ]
  },
  {
   "cell_type": "code",
   "execution_count": null,
   "metadata": {
    "deletable": false,
    "nbgrader": {
     "checksum": "4597d82866ae49a96c1661a4c071720d",
     "grade": false,
     "grade_id": "cell-e18dc09310ee7801",
     "locked": false,
     "schema_version": 1,
     "solution": true
    }
   },
   "outputs": [],
   "source": [
    "# Assign your answer to an object called: answer1\n",
    "# Make sure the correct answer is an uppercase letter. \n",
    "# Surround your answer with quotation marks.\n",
    "# Replace the fail() with your answer. \n",
    "\n",
    "# your code here\n",
    "fail() # No Answer - remove if you provide an answer"
   ]
  },
  {
   "cell_type": "code",
   "execution_count": null,
   "metadata": {
    "deletable": false,
    "editable": false,
    "nbgrader": {
     "checksum": "b36652a16e82eb993e697f1d1d135968",
     "grade": true,
     "grade_id": "cell-f1313c7d1348ac8c",
     "locked": true,
     "points": 1,
     "schema_version": 1,
     "solution": false
    }
   },
   "outputs": [],
   "source": [
    "test_that('Solution is incorrect', {\n",
    "    expect_equal(digest(answer1), '475bf9280aab63a82af60791302736f6') # we hid the answer to the test here so you can't see it, but we can still run the test\n",
    "    \n",
    "})\n",
    "print(\"Success!\")"
   ]
  },
  {
   "cell_type": "markdown",
   "metadata": {
    "deletable": false,
    "editable": false,
    "nbgrader": {
     "checksum": "71394ff55f880ea12d0789034f1cc7a7",
     "grade": false,
     "grade_id": "cell-27175166f20aece1",
     "locked": true,
     "schema_version": 1,
     "solution": false
    }
   },
   "source": [
    "**Question 1.2** Multiple Choice: \n",
    "\n",
    "Which column's values will be used to filter the data?\n",
    "\n",
    "A. `countries`\n",
    "\n",
    "B. `Generosity`\n",
    "\n",
    "C. `Positive affect`\n",
    "\n",
    "D. `year`\n",
    "\n",
    "*Assign your answer to an object called `answer2`.*"
   ]
  },
  {
   "cell_type": "code",
   "execution_count": null,
   "metadata": {
    "deletable": false,
    "nbgrader": {
     "checksum": "bdad556a5ed54514ba0abec239b757fb",
     "grade": false,
     "grade_id": "cell-16da567171536519",
     "locked": false,
     "schema_version": 1,
     "solution": true
    }
   },
   "outputs": [],
   "source": [
    "# Assign your answer to an object called: answer2\n",
    "# Make sure the correct answer is an uppercase letter. \n",
    "# Surround your answer with quotation marks.\n",
    "# Replace the fail() with your answer. \n",
    "\n",
    "# your code here\n",
    "fail() # No Answer - remove if you provide an answer"
   ]
  },
  {
   "cell_type": "code",
   "execution_count": null,
   "metadata": {
    "deletable": false,
    "editable": false,
    "nbgrader": {
     "checksum": "67cf9dfb1181b5aff5fddb0cfbb594e7",
     "grade": true,
     "grade_id": "cell-8bd586d238ebce67",
     "locked": true,
     "points": 1,
     "schema_version": 1,
     "solution": false
    }
   },
   "outputs": [],
   "source": [
    "test_that('Solution is incorrect', {\n",
    "    expect_equal(digest(answer2), 'c1f86f7430df7ddb256980ea6a3b57a4') # we hid the answer to the test here so you can't see it, but we can still run the test\n",
    "    \n",
    "})\n",
    "print(\"Success!\")"
   ]
  },
  {
   "cell_type": "markdown",
   "metadata": {
    "deletable": false,
    "editable": false,
    "nbgrader": {
     "checksum": "7c0385d897c4b8159e033c271e371414",
     "grade": false,
     "grade_id": "cell-c9e29373e8731516",
     "locked": true,
     "schema_version": 1,
     "solution": false
    }
   },
   "source": [
    "**Question 1.3.0**\n",
    "\n",
    "Use the appropriate `read_*` function to read in the `WHR2018Chapter2OnlineData` (look in the `tutorial_02` directory to ensure you use the correct relative path to read it in) and name it `happy_df_csv`."
   ]
  },
  {
   "cell_type": "code",
   "execution_count": null,
   "metadata": {
    "deletable": false,
    "nbgrader": {
     "checksum": "239e946929a360145f0eda9ef4915fff",
     "grade": false,
     "grade_id": "cell-be35369b600c489e",
     "locked": false,
     "schema_version": 1,
     "solution": true
    }
   },
   "outputs": [],
   "source": [
    "# your code here\n",
    "fail() # No Answer - remove if you provide an answer\n",
    "head(happy_df_csv)"
   ]
  },
  {
   "cell_type": "code",
   "execution_count": null,
   "metadata": {
    "deletable": false,
    "editable": false,
    "nbgrader": {
     "checksum": "d3abdaaf4dcd7d74c029cb8793e81c6f",
     "grade": true,
     "grade_id": "cell-41eb2114195d336c",
     "locked": true,
     "points": 1,
     "schema_version": 1,
     "solution": false
    }
   },
   "outputs": [],
   "source": [
    "test_that('Solution is incorrect', {\n",
    "    expect_equal(ncol(happy_df_csv), 19)\n",
    "    expect_equal(digest(as.numeric(sum(happy_df_csv$year))), '17201cb95c3eb622e848455bd480ef23')    \n",
    "})\n",
    "print(\"Success!\")"
   ]
  },
  {
   "cell_type": "markdown",
   "metadata": {
    "deletable": false,
    "editable": false,
    "nbgrader": {
     "checksum": "2175e003e583ed339b76e1edf00baa9d",
     "grade": false,
     "grade_id": "cell-ca7dbd5d07447573",
     "locked": true,
     "schema_version": 1,
     "solution": false
    }
   },
   "source": [
    "**Question 1.3.1**\n",
    "\n",
    "Above you loaded the data from a file we already downloaded and converted to a `.csv` for you. But you can also use the `readxl` R package to directly load in Excel files into R. Given that the data we loaded above (`WHR2018Chapter2OnlineData.csv`) was originally sourced from an Excel file on the web, let's now directly read that Excel file into R using the `read_excel` function from that package. This Excel file has multiple sheets, the data we want is on the first one.\n",
    "\n",
    "> #### Note:\n",
    "> `read_excel` does not yet support putting a URL as the file path argument. So we need to first download the file and write it to disk using R's `download.file` function, and then we can read that saved Excel file into R using `read_excel`.*\n",
    "\n",
    "To answer the question fill in the blanks in the code below. If you are unsure, try reading the documentation for the new functions and asking others for help!"
   ]
  },
  {
   "cell_type": "code",
   "execution_count": null,
   "metadata": {
    "deletable": false,
    "nbgrader": {
     "checksum": "95cc2c7f5cd36cf2c29df5a63e51aa41",
     "grade": false,
     "grade_id": "cell-a8a3d64de1b87550",
     "locked": false,
     "schema_version": 1,
     "solution": true
    }
   },
   "outputs": [],
   "source": [
    "library(readxl)\n",
    "url = \"https://s3.amazonaws.com/happiness-report/2018/WHR2018Chapter2OnlineData.xls\"\n",
    "\n",
    "#download.file(..., destfile = ...)\n",
    "#happy_df <- read_excel(path = ..., sheet = ...)\n",
    "\n",
    "# your code here\n",
    "fail() # No Answer - remove if you provide an answer\n",
    "head(happy_df)"
   ]
  },
  {
   "cell_type": "code",
   "execution_count": null,
   "metadata": {
    "deletable": false,
    "editable": false,
    "nbgrader": {
     "checksum": "d6f69b7277343025d88283797675c416",
     "grade": true,
     "grade_id": "cell-476734f8979f1d94",
     "locked": true,
     "points": 2,
     "schema_version": 1,
     "solution": false
    }
   },
   "outputs": [],
   "source": [
    "test_that('Solution is incorrect', {\n",
    "    expect_equal(ncol(happy_df), 19)\n",
    "    expect_equal(digest(as.numeric(sum(happy_df$year))), '17201cb95c3eb622e848455bd480ef23')    \n",
    "})\n",
    "print(\"Success!\")"
   ]
  },
  {
   "cell_type": "markdown",
   "metadata": {},
   "source": [
    "Look at the column names - they contain spaces!!! This is not a best practice and will make it difficult to use our tidyverse functions... Run the cell below to use the `make.names` function that will replace all the spaces with a `.` so we don't have this problem. The `colnames` function is also needed to access the data frames column names."
   ]
  },
  {
   "cell_type": "code",
   "execution_count": null,
   "metadata": {},
   "outputs": [],
   "source": [
    "# run this cell\n",
    "colnames(happy_df) <- colnames(happy_df) %>% make.names()\n",
    "head(happy_df)"
   ]
  },
  {
   "cell_type": "markdown",
   "metadata": {
    "deletable": false,
    "editable": false,
    "nbgrader": {
     "checksum": "9529f5d269e266489ae1d11fb3c8e217",
     "grade": false,
     "grade_id": "cell-49c7adc814e9dd9e",
     "locked": true,
     "schema_version": 1,
     "solution": false
    }
   },
   "source": [
    "**Question 1.3.2**\n",
    "\n",
    "Using the scaffolding given in the cell below, filter, select, and mutate the `happy_df` data frame as needed to get it ready to create our desired scatterplot. Name this new data frame `reduced_happy_df`\n",
    "\n",
    "Replace the `...` to complete your answer. "
   ]
  },
  {
   "cell_type": "code",
   "execution_count": null,
   "metadata": {
    "deletable": false,
    "nbgrader": {
     "checksum": "d2fe6485de16a34068545565fd2e519f",
     "grade": false,
     "grade_id": "cell-726859a91d715048",
     "locked": false,
     "schema_version": 1,
     "solution": true
    }
   },
   "outputs": [],
   "source": [
    "# happy_df <- happy_df %>%\n",
    "    #...(year == ...) %>%\n",
    "    #select(..., ...) %>%\n",
    "    #...(Positive.affect = ...)\n",
    "\n",
    "# your code here\n",
    "fail() # No Answer - remove if you provide an answer\n",
    "head(reduced_happy_df)"
   ]
  },
  {
   "cell_type": "code",
   "execution_count": null,
   "metadata": {
    "deletable": false,
    "editable": false,
    "nbgrader": {
     "checksum": "a79b84425d7eda91130833fc280739ab",
     "grade": true,
     "grade_id": "cell-dec4163f6664b7f2",
     "locked": true,
     "points": 63,
     "schema_version": 1,
     "solution": false
    }
   },
   "outputs": [],
   "source": [
    "test_that('Solution is incorrect', {\n",
    "    expect_equal(digest(as.numeric(sum(reduced_happy_df$Positive.affect, na.rm = TRUE))), '3c52d24546a2dbf7437bfbf2b953614f')    \n",
    "    expect_equal(digest(as.numeric(sum(reduced_happy_df$Healthy.life.expectancy.at.birth, na.rm = TRUE))), 'dee33d6f7860c9997daacdbfded438cf')    \n",
    "})\n",
    "print(\"Success!\")"
   ]
  },
  {
   "cell_type": "markdown",
   "metadata": {
    "deletable": false,
    "editable": false,
    "nbgrader": {
     "checksum": "cedc15a70878366fcb80d19ced759736",
     "grade": false,
     "grade_id": "cell-b10df2cccd63b024",
     "locked": true,
     "schema_version": 1,
     "solution": false
    }
   },
   "source": [
    "**Question 1.4** \n",
    "\n",
    "Using the modified data set, `reduced_happy_df`, generate the scatterplot descibed above and make sure to label the axes in proper written English.  \n",
    "\n",
    "Assign your answer to an object called `happy_plot`. "
   ]
  },
  {
   "cell_type": "code",
   "execution_count": null,
   "metadata": {
    "deletable": false,
    "nbgrader": {
     "checksum": "69834d651c7b6a4abb8600df3bab6ea0",
     "grade": false,
     "grade_id": "cell-09cd90fd47b394d3",
     "locked": false,
     "schema_version": 1,
     "solution": true
    }
   },
   "outputs": [],
   "source": [
    "options(repr.plot.width = 4, repr.plot.height = 3)\n",
    "\n",
    "# happy_plot <- ggplot(reduced_happy_df, ...(x = ..., y = ...)) + \n",
    "    #geom_...() + \n",
    "    #...(\"...\") + \n",
    "    #ylab(\"Positive affect score (out of ...)\")\n",
    "\n",
    "# your code here\n",
    "fail() # No Answer - remove if you provide an answer\n",
    "happy_plot"
   ]
  },
  {
   "cell_type": "code",
   "execution_count": null,
   "metadata": {
    "deletable": false,
    "editable": false,
    "nbgrader": {
     "checksum": "c6de80ec5f5efb7f070ef8484612b02d",
     "grade": true,
     "grade_id": "cell-cc81148d52ca3d36",
     "locked": true,
     "points": 2,
     "schema_version": 1,
     "solution": false
    }
   },
   "outputs": [],
   "source": [
    "test_that('Solution is incorrect', {\n",
    "    expect_that(\"Healthy.life.expectancy.at.birth\" %in% c(rlang::get_expr(happy_plot$mapping$x), rlang::get_expr(happy_plot$layers[[1]]$mapping$x)) , is_true())\n",
    "    expect_that(\"Positive.affect\" %in% c(rlang::get_expr(happy_plot$mapping$y), rlang::get_expr(happy_plot$layers[[1]]$mapping$y)) , is_true())\n",
    "    expect_that(\"GeomPoint\" %in% c(class(happy_plot$layers[[1]]$geom)) , is_true())\n",
    "    })\n",
    "print(\"Success!\")"
   ]
  },
  {
   "cell_type": "markdown",
   "metadata": {
    "deletable": false,
    "editable": false,
    "nbgrader": {
     "checksum": "e452437ac6d73653e4ac87ec985a6c8a",
     "grade": false,
     "grade_id": "cell-74a8b29302c03111",
     "locked": true,
     "schema_version": 1,
     "solution": false
    }
   },
   "source": [
    "**Question 1.5** \n",
    "\n",
    "In sentence or two, describe what you see in the scatterplot above? Does there appear to be a correlation between life expectancy at birth and postive affect?"
   ]
  },
  {
   "cell_type": "markdown",
   "metadata": {
    "deletable": false,
    "nbgrader": {
     "checksum": "936ed5f287b06eb60b49970d94a0857b",
     "grade": true,
     "grade_id": "cell-454d6ac241520540",
     "locked": false,
     "points": 2,
     "schema_version": 1,
     "solution": true
    }
   },
   "source": [
    "YOUR ANSWER HERE"
   ]
  },
  {
   "cell_type": "markdown",
   "metadata": {
    "deletable": false,
    "editable": false,
    "nbgrader": {
     "checksum": "a0b347da1aa5ec67405c37df712e6727",
     "grade": false,
     "grade_id": "cell-f2bcf671c8edd2bf",
     "locked": true,
     "schema_version": 1,
     "solution": false
    }
   },
   "source": [
    "**Question 1.6** \n",
    "\n",
    "Choose another column in the data set to plot against postive affect. Create the plot below (and remember to create propoer English axis labels)."
   ]
  },
  {
   "cell_type": "code",
   "execution_count": null,
   "metadata": {
    "deletable": false,
    "nbgrader": {
     "checksum": "5f8c01d0a4d590f9a0480f71c6c30356",
     "grade": true,
     "grade_id": "cell-1a67703036cd347d",
     "locked": false,
     "points": 3,
     "schema_version": 1,
     "solution": true
    }
   },
   "outputs": [],
   "source": [
    "# your code here\n",
    "fail() # No Answer - remove if you provide an answer"
   ]
  },
  {
   "cell_type": "markdown",
   "metadata": {
    "deletable": false,
    "editable": false,
    "nbgrader": {
     "checksum": "e7b353aa4fe66832ccba79983834c8dd",
     "grade": false,
     "grade_id": "cell-a9da33d0a45bb495",
     "locked": true,
     "schema_version": 1,
     "solution": false
    }
   },
   "source": [
    "**Question 1.7**\n",
    "\n",
    "In a sentence or two, describe what you see in the scatterplot above? Does there appear to be a correlation between postive affect and the other variable you plotted?"
   ]
  },
  {
   "cell_type": "markdown",
   "metadata": {
    "deletable": false,
    "nbgrader": {
     "checksum": "55e7b0d44a1f493a3492fd9d9abc852c",
     "grade": true,
     "grade_id": "cell-f324f67cb0ef5682",
     "locked": false,
     "points": 2,
     "schema_version": 1,
     "solution": true
    }
   },
   "source": [
    "YOUR ANSWER HERE"
   ]
  },
  {
   "cell_type": "markdown",
   "metadata": {},
   "source": [
    "## 2. Whistler Snow\n",
    "\n",
    "Skiing and snowboarding are huge in British Columbia. Some of the most perfect slopes are found close to home. In fact, just two hours north of Vancouver, we reach the mountain-bearing city of Whistler. With cold weather and plenty of snowfall, Whistler becomes the ideal destination for winter sports fanatics. Moreover, the 2010 Winter Olympics were also held here. \n",
    "\n",
    "One thing skiiers and snowboarders want is fresh snow! When are they most likely to find this? In the `data` directory we have two year long data sets from [Environment Canada from the Whistler Roundhouse Station](http://climate.weather.gc.ca/historical_data/search_historic_data_stations_e.html?StationID=348&Year=2007&Month=3&Day=1&timeframe=2&type=bar&MeasTypeID=snow&searchType=stnProx&txtRadius=25&optProxType=navLink&txtLatDecDeg=50.128889166667&txtLongDecDeg=122.95483333333&optLimit=specDate&selRowPerPage=25&station=WHISTLER) (on Whistler mountain). This weather station is located 1,835 m above sea level. \n",
    "\n",
    "To answer the question when are skiiers and snowboarders most likely to find fresh snow (and when you should plan your next ski trip to Whistler) you will create a line plot where the date is on the x-axis and the total snow per day in centimetres (the column named `Total Snow cm` in the data file) is on the y-axis. Given that we have data for 2 years (2017 & 2018) we will create two plots, once for each year and see if there is any consistent trend we can observe across the two years."
   ]
  },
  {
   "cell_type": "markdown",
   "metadata": {
    "deletable": false,
    "editable": false,
    "nbgrader": {
     "checksum": "6da6212b6b29a7b31b6a82b5101994cd",
     "grade": false,
     "grade_id": "cell-e8f091bb368e39f1",
     "locked": true,
     "schema_version": 1,
     "solution": false
    }
   },
   "source": [
    "**Question 2.1** Multiple Choice: \n",
    "\n",
    "What are we going to plot on the y-axis?\n",
    "\n",
    "A. total precipitation per day in centimetres\n",
    "\n",
    "B. total snow per on the ground in centimetres\n",
    "\n",
    "C. total snow per day in centimetres\n",
    "\n",
    "D. total rain per day in centimetres\n",
    "\n",
    "*Assign your answer to an object called `answer2.1`.*"
   ]
  },
  {
   "cell_type": "code",
   "execution_count": null,
   "metadata": {
    "deletable": false,
    "nbgrader": {
     "checksum": "32077e55fa7b6cc3caa5f049fbaef357",
     "grade": false,
     "grade_id": "cell-7c77b685f9f33b13",
     "locked": false,
     "schema_version": 1,
     "solution": true
    }
   },
   "outputs": [],
   "source": [
    "# Assign your answer to an object called: answer2.1\n",
    "# Make sure the correct answer is an uppercase letter. \n",
    "# Surround your answer with quotation marks.\n",
    "# Replace the fail() with your answer. \n",
    "\n",
    "# your code here\n",
    "fail() # No Answer - remove if you provide an answer"
   ]
  },
  {
   "cell_type": "code",
   "execution_count": null,
   "metadata": {
    "deletable": false,
    "editable": false,
    "nbgrader": {
     "checksum": "7663b2ace1186cd8bb37c18d8b4a3e3a",
     "grade": true,
     "grade_id": "cell-09cb9f902ccc6326",
     "locked": true,
     "points": 1,
     "schema_version": 1,
     "solution": false
    }
   },
   "outputs": [],
   "source": [
    "test_that('Solution is incorrect', {\n",
    "    expect_equal(digest(as.character(answer2.1)), '475bf9280aab63a82af60791302736f6') # we hid the answer to the test here so you can't see it, but we can still run the test\n",
    "    \n",
    "})\n",
    "print(\"Success!\")"
   ]
  },
  {
   "cell_type": "markdown",
   "metadata": {
    "deletable": false,
    "editable": false,
    "nbgrader": {
     "checksum": "34d0910156caef3ce856daa8341b7206",
     "grade": false,
     "grade_id": "cell-4f445b649edd0b2b",
     "locked": true,
     "schema_version": 1,
     "solution": false
    }
   },
   "source": [
    "**Question 2.2.0** \n",
    "\n",
    "Read in the file named `eng-daily-01012018-12312018.csv` from the data directory. Preview the file to choose the correct `read_*` function and argument values to get the data into R. Name it `whistler_2018`.*"
   ]
  },
  {
   "cell_type": "code",
   "execution_count": null,
   "metadata": {
    "deletable": false,
    "nbgrader": {
     "checksum": "706b46bd1a45f80f4a7d3da390b75664",
     "grade": false,
     "grade_id": "cell-5eee09e838226892",
     "locked": false,
     "schema_version": 1,
     "solution": true
    }
   },
   "outputs": [],
   "source": [
    "# your code here\n",
    "fail() # No Answer - remove if you provide an answer\n",
    "head(whistler_2018)"
   ]
  },
  {
   "cell_type": "code",
   "execution_count": null,
   "metadata": {
    "deletable": false,
    "editable": false,
    "nbgrader": {
     "checksum": "4fdcb2313d665480dd63943b09721a92",
     "grade": true,
     "grade_id": "cell-37bb46c77b5a6b65",
     "locked": true,
     "points": 1,
     "schema_version": 1,
     "solution": false
    }
   },
   "outputs": [],
   "source": [
    "test_that('Solution is incorrect', {\n",
    "    expect_equal(ncol(whistler_2018), 27)\n",
    "    expect_equal(digest(as.numeric(sum(whistler_2018$Snow_ground, na.rm = TRUE))), '908d1fd10b357ed0ceaaec823abf81bc')    \n",
    "})\n",
    "print(\"Success!\")"
   ]
  },
  {
   "cell_type": "markdown",
   "metadata": {
    "deletable": false,
    "editable": false,
    "nbgrader": {
     "checksum": "1e3ff29c54dba545adfa1f9c1b4f5971",
     "grade": false,
     "grade_id": "cell-8a21bf6086ccf39e",
     "locked": true,
     "schema_version": 1,
     "solution": false
    }
   },
   "source": [
    "**Question 2.2.1** \n",
    "\n",
    "Looking at the column names of the `whistler_2018` data frame you can see we have the white space in column names problem again. Use `make.names` to remove these."
   ]
  },
  {
   "cell_type": "code",
   "execution_count": null,
   "metadata": {
    "deletable": false,
    "nbgrader": {
     "checksum": "d0d910d15df1d5b4c9948342f363d246",
     "grade": false,
     "grade_id": "cell-56ec4e8dbbff86e2",
     "locked": false,
     "schema_version": 1,
     "solution": true
    }
   },
   "outputs": [],
   "source": [
    "# your code here\n",
    "fail() # No Answer - remove if you provide an answer\n",
    "colnames(whistler_2018)"
   ]
  },
  {
   "cell_type": "code",
   "execution_count": null,
   "metadata": {
    "deletable": false,
    "editable": false,
    "nbgrader": {
     "checksum": "eec72a71ac90ebbfe45e0ab67d60b565",
     "grade": true,
     "grade_id": "cell-a8623de117076f50",
     "locked": true,
     "points": 1,
     "schema_version": 1,
     "solution": false
    }
   },
   "outputs": [],
   "source": [
    "test_that('Solution is incorrect', {\n",
    "    expect_equal(ncol(whistler_2018), 27)\n",
    "    expect_equal(length(grep(pattern = \" \", x = colnames(whistler_2018))), 0)    \n",
    "})\n",
    "print(\"Success!\")"
   ]
  },
  {
   "cell_type": "markdown",
   "metadata": {
    "deletable": false,
    "editable": false,
    "nbgrader": {
     "checksum": "7513f12feb62a60e76d30f0a05102db5",
     "grade": false,
     "grade_id": "cell-ebc628786570051a",
     "locked": true,
     "schema_version": 1,
     "solution": false
    }
   },
   "source": [
    "**Question 2.3** \n",
    "\n",
    "Create a line plot where the Date is on the x-axis and the total snow per day in centimetres is on the y-axis by filling in the `...` in the code below. Ensure you create axis labels that are formatted in proper English. Assign your plot to an object called `whistler_2018_plot`. "
   ]
  },
  {
   "cell_type": "code",
   "execution_count": null,
   "metadata": {
    "deletable": false,
    "nbgrader": {
     "checksum": "696c5a471521a387441c1e5214a54bcd",
     "grade": false,
     "grade_id": "cell-2b5a4c01c5a8404d",
     "locked": false,
     "schema_version": 1,
     "solution": true
    }
   },
   "outputs": [],
   "source": [
    "options(repr.plot.width = 8, repr.plot.height = 2.5)\n",
    "# ... <-  ...(..., aes(x = ..., y = ...)) + \n",
    "    #geom_line() +\n",
    "    #xlab(...) +\n",
    "    #ylab(...) +\n",
    "    #scale_x_date(date_breaks = \"1 month\") + # labels every month\n",
    "    #theme(axis.text.x = element_text(angle = 90, hjust = 1)) # rotates x axis labels to be vertical\n",
    "\n",
    "# your code here\n",
    "fail() # No Answer - remove if you provide an answer\n",
    "whistler_2018_plot"
   ]
  },
  {
   "cell_type": "code",
   "execution_count": null,
   "metadata": {
    "deletable": false,
    "editable": false,
    "nbgrader": {
     "checksum": "af2688a9f638154716361fb4422203f2",
     "grade": true,
     "grade_id": "cell-7ba6c116f9f01fbf",
     "locked": true,
     "points": 2,
     "schema_version": 1,
     "solution": false
    }
   },
   "outputs": [],
   "source": [
    "test_that('Solution is incorrect', {\n",
    "    expect_that(\"Date.Time\" %in% c(rlang::get_expr(whistler_2018_plot$mapping$x), rlang::get_expr(whistler_2018_plot$layers[[1]]$mapping$x)) , is_true())\n",
    "    expect_that(\"Total.Snow..cm.\" %in% c(rlang::get_expr(whistler_2018_plot$mapping$y), rlang::get_expr(whistler_2018_plot$layers[[1]]$mapping$y)) , is_true())\n",
    "    expect_that(\"GeomLine\" %in% c(class(whistler_2018_plot$layers[[1]]$geom)) , is_true())\n",
    "    })\n",
    "print(\"Success!\")"
   ]
  },
  {
   "cell_type": "markdown",
   "metadata": {
    "deletable": false,
    "editable": false,
    "nbgrader": {
     "checksum": "e763075426e8eabd986d476d30beda58",
     "grade": false,
     "grade_id": "cell-5ab30aff1ade6a29",
     "locked": true,
     "schema_version": 1,
     "solution": false
    }
   },
   "source": [
    "**Question 2.4** \n",
    "\n",
    "Looking at the line plot above for 2018, of the months when is snowed, what months had the most fresh snow? "
   ]
  },
  {
   "cell_type": "markdown",
   "metadata": {
    "deletable": false,
    "nbgrader": {
     "checksum": "214cb33ca591bd58372a8f2dd2a5a74e",
     "grade": true,
     "grade_id": "cell-44413b023d2ed1cf",
     "locked": false,
     "points": 1,
     "schema_version": 1,
     "solution": true
    }
   },
   "source": [
    "YOUR ANSWER HERE"
   ]
  },
  {
   "cell_type": "markdown",
   "metadata": {
    "deletable": false,
    "editable": false,
    "nbgrader": {
     "checksum": "30c12ca6a53c923ec1029c554410e745",
     "grade": false,
     "grade_id": "cell-f73cf8cfc5b9f8e8",
     "locked": true,
     "schema_version": 1,
     "solution": false
    }
   },
   "source": [
    "**Question 2.5**\n",
    "\n",
    "Repeat the data loading and plot creation using the file `eng-daily-01012017-12312017.csv` to visualize the same data for the year 2017."
   ]
  },
  {
   "cell_type": "code",
   "execution_count": null,
   "metadata": {
    "deletable": false,
    "nbgrader": {
     "checksum": "1780f58fe78f4d1a182e5bc45b696532",
     "grade": true,
     "grade_id": "cell-1b68857d927e3850",
     "locked": false,
     "points": 4,
     "schema_version": 1,
     "solution": true
    }
   },
   "outputs": [],
   "source": [
    "# your code here\n",
    "fail() # No Answer - remove if you provide an answer"
   ]
  },
  {
   "cell_type": "markdown",
   "metadata": {
    "deletable": false,
    "editable": false,
    "nbgrader": {
     "checksum": "5b274a732528da97149be8b48685922f",
     "grade": false,
     "grade_id": "cell-8f8fcf9c0b810526",
     "locked": true,
     "schema_version": 1,
     "solution": false
    }
   },
   "source": [
    "**Question 2.6**\n",
    "\n",
    "Looking at the line plot above for 2017, of the months when is snowed, what months had the most fresh snow? Are these the same as in 2018 (*hint - you might want to add a code cell where you plot the two plots right after each other so you can easily compare them in one screen view*)? Is there any advantage of looking at 2 years worth of data?"
   ]
  },
  {
   "cell_type": "markdown",
   "metadata": {
    "deletable": false,
    "nbgrader": {
     "checksum": "fad0ef14724742088a78416f2915077b",
     "grade": true,
     "grade_id": "cell-59326d3fb00de096",
     "locked": false,
     "points": 0,
     "schema_version": 1,
     "solution": true
    }
   },
   "source": [
    "YOUR ANSWER HERE"
   ]
  },
  {
   "cell_type": "markdown",
   "metadata": {
    "deletable": false,
    "editable": false,
    "nbgrader": {
     "checksum": "303b0b28b7c1e2d5cda25dd48b6ff33a",
     "grade": false,
     "grade_id": "cell-c3a172ed85763db9",
     "locked": true,
     "schema_version": 1,
     "solution": false
    }
   },
   "source": [
    "## 3. Reading Data from the Internet\n",
    "\n",
    "**Question 3.0**\n",
    "\n",
    "More practice scraping! To keep ourselves out of legal hot water, we will get more practice scraping data using a website that was created for that purpose: http://books.toscrape.com/\n",
    "\n",
    "Your task here is to scrape the prices of the science fiction novels on [this page](http://books.toscrape.com/catalogue/category/books/science-fiction_16/index.html) and determine the maximum, minimum and average price of science fiction novels at this bookstore. Tidy up and nicely present your results by creating a data frame called `sci_fi_stats` that has 2 columns, one called `stats` that contains the words `max`, `min` and `mean` and once called `value` that contains the calculated value for each of these.\n",
    "\n",
    "The functions for maximum, minimum and average in R are listed in the table below:\n",
    "\n",
    "| Calculation to perform | Function in R |\n",
    "| ---------------------- | ------------- |\n",
    "| maximum                | `max`         |\n",
    "| minimum                | `min`         |\n",
    "| average                | `mean`        |\n",
    "\n",
    "Some other helpful hints:\n",
    "- If you end up scraping some characters other than numbers you will have to use `str_replace_all` from the `stringr` library to remove them (similar to what we did with the commas in worksheet_02).\n",
    "- Use `as.numeric` to convert your character type numbers to numeric type numbers before you pass them into the `max`, `min` and `mean` functions.\n",
    "- If you have `NA` values in your objects that you need to pass into the `max`, `min` and `mean` functions, you will need to set the `na.rm` argument in these functions to `TRUE`.\n",
    "- use the function `c` to create the vectors that will go in your data frame, for example, to create a vector with the values 10, 16 and 13 named ages, we would type: `ages <- c(10, 16, 13)`.\n",
    "- use the function `tibble` to create the data frame from your vectors."
   ]
  },
  {
   "cell_type": "code",
   "execution_count": null,
   "metadata": {
    "deletable": false,
    "nbgrader": {
     "checksum": "62ca0195f52b259bf850e38679aa7203",
     "grade": true,
     "grade_id": "cell-cdd2ec3a736e9ec0",
     "locked": false,
     "points": 4,
     "schema_version": 1,
     "solution": true
    }
   },
   "outputs": [],
   "source": [
    "# your code here\n",
    "fail() # No Answer - remove if you provide an answer\n",
    "sci_fi_stats"
   ]
  },
  {
   "cell_type": "markdown",
   "metadata": {
    "deletable": false,
    "editable": false,
    "nbgrader": {
     "checksum": "92dd1afca57847eabf563d1f268e562a",
     "grade": false,
     "grade_id": "cell-13d529c24ab24f75",
     "locked": true,
     "schema_version": 1,
     "solution": false
    }
   },
   "source": [
    "**Question 4.1**\n",
    "\n",
    "In worksheet_02 you had practice scraping data from the web. Now that you have the skills, should you go scrape that cool/interesting website you have been dreaming of harvesting data from? Maybe, but maybe not... You really should check the website's Terms of Service first and also consider the application you have planned for the data after you scrape it.\n",
    "\n",
    "List 3 websites you might be intersted in scraping data from (for fun, for profit, for research/education). List their URLs as part of your answer. For these 3 websites, search for their Terms of Service page. Tell us if such a page exists, and if it does, provide the link to it as well as tell us whether or not they allow web scraping of their website."
   ]
  },
  {
   "cell_type": "markdown",
   "metadata": {
    "deletable": false,
    "nbgrader": {
     "checksum": "0a15f37061ae76904517ba4ca93b16e0",
     "grade": true,
     "grade_id": "cell-2ac9674598efb69a",
     "locked": false,
     "points": 3,
     "schema_version": 1,
     "solution": true
    }
   },
   "source": [
    "YOUR ANSWER HERE"
   ]
  },
  {
   "cell_type": "markdown",
   "metadata": {},
   "source": [
    "### Bonus/optional additional readings on legalities of web scraping:\n",
    "\n",
    "Here are two news stories about web scraping and their legal implications this year:\n",
    "\n",
    "- [D.C. Court: Accessing Public Information is Not a Computer Crime]()\n",
    "\n",
    "- [Dear Canada: Accessing Publicly Available Information on the Internet Is Not a Crime](https://www.eff.org/deeplinks/2018/04/dear-canada-accessing-publicly-available-information-internet-not-crime)"
   ]
  }
 ],
 "metadata": {
  "kernelspec": {
   "display_name": "R",
   "language": "R",
   "name": "ir"
  },
  "language_info": {
   "codemirror_mode": "r",
   "file_extension": ".r",
   "mimetype": "text/x-r-source",
   "name": "R",
   "pygments_lexer": "r",
   "version": "3.4.1"
  }
 },
 "nbformat": 4,
 "nbformat_minor": 2
}
