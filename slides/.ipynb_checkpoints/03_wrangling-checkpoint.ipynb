{
 "cells": [
  {
   "cell_type": "markdown",
   "metadata": {
    "slideshow": {
     "slide_type": "slide"
    }
   },
   "source": [
    "# DSCI 100 - Introduction to Data Science\n",
    "\n",
    "\n",
    "## Lecture 3 - Wrangling to get tidy data\n",
    "\n",
    "\n",
    "### 2019-01-17"
   ]
  },
  {
   "cell_type": "markdown",
   "metadata": {
    "slideshow": {
     "slide_type": "slide"
    }
   },
   "source": [
    "## Reminder  \n",
    "\n",
    "Where are we? Where are we going?\n",
    "\n",
    "![](https://d33wubrfki0l68.cloudfront.net/571b056757d68e6df81a3e3853f54d3c76ad6efc/32d37/diagrams/data-science.png)\n",
    "\n",
    "*image source: [R for Data Science](https://r4ds.had.co.nz/) by Grolemund & Wickham*"
   ]
  },
  {
   "cell_type": "markdown",
   "metadata": {
    "slideshow": {
     "slide_type": "slide"
    }
   },
   "source": [
    "## Shameless borrowing of slides from Jenny Bryan\n",
    "\n",
    "https://www.slideshare.net/Plotly/plotcon-nyc-behind-every-great-plot-theres-a-great-deal-of-wrangling"
   ]
  },
  {
   "cell_type": "markdown",
   "metadata": {
    "slideshow": {
     "slide_type": "slide"
    }
   },
   "source": [
    "<img src=\"img/whisperer.png\" width=\"700\"/>"
   ]
  },
  {
   "cell_type": "markdown",
   "metadata": {
    "slideshow": {
     "slide_type": "slide"
    }
   },
   "source": [
    "<img src=\"img/on_balcony.png\" width=\"700\"/>"
   ]
  },
  {
   "cell_type": "markdown",
   "metadata": {
    "slideshow": {
     "slide_type": "slide"
    }
   },
   "source": [
    "<img src=\"img/tame.png\" width=\"700\"/>"
   ]
  },
  {
   "cell_type": "markdown",
   "metadata": {
    "slideshow": {
     "slide_type": "slide"
    }
   },
   "source": [
    "## How should you wrangle your data? \n"
   ]
  },
  {
   "cell_type": "markdown",
   "metadata": {
    "slideshow": {
     "slide_type": "fragment"
    }
   },
   "source": [
    "## We make it \"tidy\""
   ]
  },
  {
   "cell_type": "markdown",
   "metadata": {
    "slideshow": {
     "slide_type": "slide"
    }
   },
   "source": [
    "## Lord of the Rings example\n",
    "\n",
    "I will give you a concrete example of some untidy data  from\n",
    "[this data from the Lord of the Rings\n",
    "Trilogy](https://github.com/jennybc/lotr).\n",
    "\n",
    "<table border=\"1\">\n",
    "\n",
    "<tr>\n",
    "\n",
    "<td>\n",
    "\n",
    "<!-- html table generated in R 3.5.1 by xtable 1.8-3 package -->\n",
    "\n",
    "<!-- Tue Oct 16 10:15:55 2018 -->\n",
    "\n",
    "<table border=\"1\">\n",
    "\n",
    "<caption align=\"top\">\n",
    "\n",
    "The Fellowship Of The Ring\n",
    "\n",
    "</caption>\n",
    "\n",
    "<tr>\n",
    "\n",
    "<th>\n",
    "\n",
    "Race\n",
    "\n",
    "</th>\n",
    "\n",
    "<th>\n",
    "\n",
    "Female\n",
    "\n",
    "</th>\n",
    "\n",
    "<th>\n",
    "\n",
    "Male\n",
    "\n",
    "</th>\n",
    "\n",
    "</tr>\n",
    "\n",
    "<tr>\n",
    "\n",
    "<td>\n",
    "\n",
    "Elf\n",
    "\n",
    "</td>\n",
    "\n",
    "<td align=\"right\">\n",
    "\n",
    "1229\n",
    "\n",
    "</td>\n",
    "\n",
    "<td align=\"right\">\n",
    "\n",
    "971\n",
    "\n",
    "</td>\n",
    "\n",
    "</tr>\n",
    "\n",
    "<tr>\n",
    "\n",
    "<td>\n",
    "\n",
    "Hobbit\n",
    "\n",
    "</td>\n",
    "\n",
    "<td align=\"right\">\n",
    "\n",
    "14\n",
    "\n",
    "</td>\n",
    "\n",
    "<td align=\"right\">\n",
    "\n",
    "3644\n",
    "\n",
    "</td>\n",
    "\n",
    "</tr>\n",
    "\n",
    "<tr>\n",
    "\n",
    "<td>\n",
    "\n",
    "Man\n",
    "\n",
    "</td>\n",
    "\n",
    "<td align=\"right\">\n",
    "\n",
    "0\n",
    "\n",
    "</td>\n",
    "\n",
    "<td align=\"right\">\n",
    "\n",
    "1995\n",
    "\n",
    "</td>\n",
    "\n",
    "</tr>\n",
    "\n",
    "</table>\n",
    "\n",
    "</td>\n",
    "\n",
    "<td>\n",
    "\n",
    "<!-- html table generated in R 3.5.1 by xtable 1.8-3 package -->\n",
    "\n",
    "<!-- Tue Oct 16 10:15:55 2018 -->\n",
    "\n",
    "<table border=\"1\">\n",
    "\n",
    "<caption align=\"top\">\n",
    "\n",
    "The Two Towers\n",
    "\n",
    "</caption>\n",
    "\n",
    "<tr>\n",
    "\n",
    "<th>\n",
    "\n",
    "Race\n",
    "\n",
    "</th>\n",
    "\n",
    "<th>\n",
    "\n",
    "Female\n",
    "\n",
    "</th>\n",
    "\n",
    "<th>\n",
    "\n",
    "Male\n",
    "\n",
    "</th>\n",
    "\n",
    "</tr>\n",
    "\n",
    "<tr>\n",
    "\n",
    "<td>\n",
    "\n",
    "Elf\n",
    "\n",
    "</td>\n",
    "\n",
    "<td align=\"right\">\n",
    "\n",
    "331\n",
    "\n",
    "</td>\n",
    "\n",
    "<td align=\"right\">\n",
    "\n",
    "513\n",
    "\n",
    "</td>\n",
    "\n",
    "</tr>\n",
    "\n",
    "<tr>\n",
    "\n",
    "<td>\n",
    "\n",
    "Hobbit\n",
    "\n",
    "</td>\n",
    "\n",
    "<td align=\"right\">\n",
    "\n",
    "0\n",
    "\n",
    "</td>\n",
    "\n",
    "<td align=\"right\">\n",
    "\n",
    "2463\n",
    "\n",
    "</td>\n",
    "\n",
    "</tr>\n",
    "\n",
    "<tr>\n",
    "\n",
    "<td>\n",
    "\n",
    "Man\n",
    "\n",
    "</td>\n",
    "\n",
    "<td align=\"right\">\n",
    "\n",
    "401\n",
    "\n",
    "</td>\n",
    "\n",
    "<td align=\"right\">\n",
    "\n",
    "3589\n",
    "\n",
    "</td>\n",
    "\n",
    "</tr>\n",
    "\n",
    "</table>\n",
    "\n",
    "</td>\n",
    "\n",
    "<td>\n",
    "\n",
    "<!-- html table generated in R 3.5.1 by xtable 1.8-3 package -->\n",
    "\n",
    "<!-- Tue Oct 16 10:15:56 2018 -->\n",
    "\n",
    "<table border=\"1\">\n",
    "\n",
    "<caption align=\"top\">\n",
    "\n",
    "The Return Of The King\n",
    "\n",
    "</caption>\n",
    "\n",
    "<tr>\n",
    "\n",
    "<th>\n",
    "\n",
    "Race\n",
    "\n",
    "</th>\n",
    "\n",
    "<th>\n",
    "\n",
    "Female\n",
    "\n",
    "</th>\n",
    "\n",
    "<th>\n",
    "\n",
    "Male\n",
    "\n",
    "</th>\n",
    "\n",
    "</tr>\n",
    "\n",
    "<tr>\n",
    "\n",
    "<td>\n",
    "\n",
    "Elf\n",
    "\n",
    "</td>\n",
    "\n",
    "<td align=\"right\">\n",
    "\n",
    "183\n",
    "\n",
    "</td>\n",
    "\n",
    "<td align=\"right\">\n",
    "\n",
    "510\n",
    "\n",
    "</td>\n",
    "\n",
    "</tr>\n",
    "\n",
    "<tr>\n",
    "\n",
    "<td>\n",
    "\n",
    "Hobbit\n",
    "\n",
    "</td>\n",
    "\n",
    "<td align=\"right\">\n",
    "\n",
    "2\n",
    "\n",
    "</td>\n",
    "\n",
    "<td align=\"right\">\n",
    "\n",
    "2673\n",
    "\n",
    "</td>\n",
    "\n",
    "</tr>\n",
    "\n",
    "<tr>\n",
    "\n",
    "<td>\n",
    "\n",
    "Man\n",
    "\n",
    "</td>\n",
    "\n",
    "<td align=\"right\">\n",
    "\n",
    "268\n",
    "\n",
    "</td>\n",
    "\n",
    "<td align=\"right\">\n",
    "\n",
    "2459\n",
    "\n",
    "</td>\n",
    "\n",
    "</tr>\n",
    "\n",
    "</table>\n",
    "\n",
    "</td>\n",
    "\n",
    "</tr>\n",
    "\n",
    "</table>"
   ]
  },
  {
   "cell_type": "markdown",
   "metadata": {},
   "source": [
    "Here’s how the same data looks in tidy form:\n",
    "\n",
    "<!-- html table generated in R 3.5.1 by xtable 1.8-3 package -->\n",
    "\n",
    "<!-- Tue Oct 16 10:15:56 2018 -->\n",
    "\n",
    "<table border=\"1\">\n",
    "\n",
    "<tr>\n",
    "\n",
    "<th>\n",
    "\n",
    "Film\n",
    "\n",
    "</th>\n",
    "\n",
    "<th>\n",
    "\n",
    "Gender\n",
    "\n",
    "</th>\n",
    "\n",
    "<th>\n",
    "\n",
    "Race\n",
    "\n",
    "</th>\n",
    "\n",
    "<th>\n",
    "\n",
    "Words\n",
    "\n",
    "</th>\n",
    "\n",
    "</tr>\n",
    "\n",
    "<tr>\n",
    "\n",
    "<td>\n",
    "\n",
    "The Fellowship Of The Ring\n",
    "\n",
    "</td>\n",
    "\n",
    "<td>\n",
    "\n",
    "Female\n",
    "\n",
    "</td>\n",
    "\n",
    "<td>\n",
    "\n",
    "Elf\n",
    "\n",
    "</td>\n",
    "\n",
    "<td align=\"right\">\n",
    "\n",
    "1229\n",
    "\n",
    "</td>\n",
    "\n",
    "</tr>\n",
    "\n",
    "<tr>\n",
    "\n",
    "<td>\n",
    "\n",
    "The Fellowship Of The Ring\n",
    "\n",
    "</td>\n",
    "\n",
    "<td>\n",
    "\n",
    "Male\n",
    "\n",
    "</td>\n",
    "\n",
    "<td>\n",
    "\n",
    "Elf\n",
    "\n",
    "</td>\n",
    "\n",
    "<td align=\"right\">\n",
    "\n",
    "971\n",
    "\n",
    "</td>\n",
    "\n",
    "</tr>\n",
    "\n",
    "<tr>\n",
    "\n",
    "<td>\n",
    "\n",
    "The Fellowship Of The Ring\n",
    "\n",
    "</td>\n",
    "\n",
    "<td>\n",
    "\n",
    "Female\n",
    "\n",
    "</td>\n",
    "\n",
    "<td>\n",
    "\n",
    "Hobbit\n",
    "\n",
    "</td>\n",
    "\n",
    "<td align=\"right\">\n",
    "\n",
    "14\n",
    "\n",
    "</td>\n",
    "\n",
    "</tr>\n",
    "\n",
    "<tr>\n",
    "\n",
    "<td>\n",
    "\n",
    "The Fellowship Of The Ring\n",
    "\n",
    "</td>\n",
    "\n",
    "<td>\n",
    "\n",
    "Male\n",
    "\n",
    "</td>\n",
    "\n",
    "<td>\n",
    "\n",
    "Hobbit\n",
    "\n",
    "</td>\n",
    "\n",
    "<td align=\"right\">\n",
    "\n",
    "3644\n",
    "\n",
    "</td>\n",
    "\n",
    "</tr>\n",
    "\n",
    "<tr>\n",
    "\n",
    "<td>\n",
    "\n",
    "The Fellowship Of The Ring\n",
    "\n",
    "</td>\n",
    "\n",
    "<td>\n",
    "\n",
    "Female\n",
    "\n",
    "</td>\n",
    "\n",
    "<td>\n",
    "\n",
    "Man\n",
    "\n",
    "</td>\n",
    "\n",
    "<td align=\"right\">\n",
    "\n",
    "0\n",
    "\n",
    "</td>\n",
    "\n",
    "</tr>\n",
    "\n",
    "<tr>\n",
    "\n",
    "<td>\n",
    "\n",
    "The Fellowship Of The Ring\n",
    "\n",
    "</td>\n",
    "\n",
    "<td>\n",
    "\n",
    "Male\n",
    "\n",
    "</td>\n",
    "\n",
    "<td>\n",
    "\n",
    "Man\n",
    "\n",
    "</td>\n",
    "\n",
    "<td align=\"right\">\n",
    "\n",
    "1995\n",
    "\n",
    "</td>\n",
    "\n",
    "</tr>\n",
    "\n",
    "<tr>\n",
    "\n",
    "<td>\n",
    "\n",
    "The Two Towers\n",
    "\n",
    "</td>\n",
    "\n",
    "<td>\n",
    "\n",
    "Female\n",
    "\n",
    "</td>\n",
    "\n",
    "<td>\n",
    "\n",
    "Elf\n",
    "\n",
    "</td>\n",
    "\n",
    "<td align=\"right\">\n",
    "\n",
    "331\n",
    "\n",
    "</td>\n",
    "\n",
    "</tr>\n",
    "\n",
    "<tr>\n",
    "\n",
    "<td>\n",
    "\n",
    "The Two Towers\n",
    "\n",
    "</td>\n",
    "\n",
    "<td>\n",
    "\n",
    "Male\n",
    "\n",
    "</td>\n",
    "\n",
    "<td>\n",
    "\n",
    "Elf\n",
    "\n",
    "</td>\n",
    "\n",
    "<td align=\"right\">\n",
    "\n",
    "513\n",
    "\n",
    "</td>\n",
    "\n",
    "</tr>\n",
    "\n",
    "<tr>\n",
    "\n",
    "<td>\n",
    "\n",
    "The Two Towers\n",
    "\n",
    "</td>\n",
    "\n",
    "<td>\n",
    "\n",
    "Female\n",
    "\n",
    "</td>\n",
    "\n",
    "<td>\n",
    "\n",
    "Hobbit\n",
    "\n",
    "</td>\n",
    "\n",
    "<td align=\"right\">\n",
    "\n",
    "0\n",
    "\n",
    "</td>\n",
    "\n",
    "</tr>\n",
    "\n",
    "<tr>\n",
    "\n",
    "<td>\n",
    "\n",
    "The Two Towers\n",
    "\n",
    "</td>\n",
    "\n",
    "<td>\n",
    "\n",
    "Male\n",
    "\n",
    "</td>\n",
    "\n",
    "<td>\n",
    "\n",
    "Hobbit\n",
    "\n",
    "</td>\n",
    "\n",
    "<td align=\"right\">\n",
    "\n",
    "2463\n",
    "\n",
    "</td>\n",
    "\n",
    "</tr>\n",
    "\n",
    "<tr>\n",
    "\n",
    "<td>\n",
    "\n",
    "The Two Towers\n",
    "\n",
    "</td>\n",
    "\n",
    "<td>\n",
    "\n",
    "Female\n",
    "\n",
    "</td>\n",
    "\n",
    "<td>\n",
    "\n",
    "Man\n",
    "\n",
    "</td>\n",
    "\n",
    "<td align=\"right\">\n",
    "\n",
    "401\n",
    "\n",
    "</td>\n",
    "\n",
    "</tr>\n",
    "\n",
    "<tr>\n",
    "\n",
    "<td>\n",
    "\n",
    "The Two Towers\n",
    "\n",
    "</td>\n",
    "\n",
    "<td>\n",
    "\n",
    "Male\n",
    "\n",
    "</td>\n",
    "\n",
    "<td>\n",
    "\n",
    "Man\n",
    "\n",
    "</td>\n",
    "\n",
    "<td align=\"right\">\n",
    "\n",
    "3589\n",
    "\n",
    "</td>\n",
    "\n",
    "</tr>\n",
    "\n",
    "<tr>\n",
    "\n",
    "<td>\n",
    "\n",
    "The Return Of The King\n",
    "\n",
    "</td>\n",
    "\n",
    "<td>\n",
    "\n",
    "Female\n",
    "\n",
    "</td>\n",
    "\n",
    "<td>\n",
    "\n",
    "Elf\n",
    "\n",
    "</td>\n",
    "\n",
    "<td align=\"right\">\n",
    "\n",
    "183\n",
    "\n",
    "</td>\n",
    "\n",
    "</tr>\n",
    "\n",
    "<tr>\n",
    "\n",
    "<td>\n",
    "\n",
    "The Return Of The King\n",
    "\n",
    "</td>\n",
    "\n",
    "<td>\n",
    "\n",
    "Male\n",
    "\n",
    "</td>\n",
    "\n",
    "<td>\n",
    "\n",
    "Elf\n",
    "\n",
    "</td>\n",
    "\n",
    "<td align=\"right\">\n",
    "\n",
    "510\n",
    "\n",
    "</td>\n",
    "\n",
    "</tr>\n",
    "\n",
    "<tr>\n",
    "\n",
    "<td>\n",
    "\n",
    "The Return Of The King\n",
    "\n",
    "</td>\n",
    "\n",
    "<td>\n",
    "\n",
    "Female\n",
    "\n",
    "</td>\n",
    "\n",
    "<td>\n",
    "\n",
    "Hobbit\n",
    "\n",
    "</td>\n",
    "\n",
    "<td align=\"right\">\n",
    "\n",
    "2\n",
    "\n",
    "</td>\n",
    "\n",
    "</tr>\n",
    "\n",
    "<tr>\n",
    "\n",
    "<td>\n",
    "\n",
    "The Return Of The King\n",
    "\n",
    "</td>\n",
    "\n",
    "<td>\n",
    "\n",
    "Male\n",
    "\n",
    "</td>\n",
    "\n",
    "<td>\n",
    "\n",
    "Hobbit\n",
    "\n",
    "</td>\n",
    "\n",
    "<td align=\"right\">\n",
    "\n",
    "2673\n",
    "\n",
    "</td>\n",
    "\n",
    "</tr>\n",
    "\n",
    "<tr>\n",
    "\n",
    "<td>\n",
    "\n",
    "The Return Of The King\n",
    "\n",
    "</td>\n",
    "\n",
    "<td>\n",
    "\n",
    "Female\n",
    "\n",
    "</td>\n",
    "\n",
    "<td>\n",
    "\n",
    "Man\n",
    "\n",
    "</td>\n",
    "\n",
    "<td align=\"right\">\n",
    "\n",
    "268\n",
    "\n",
    "</td>\n",
    "\n",
    "</tr>\n",
    "\n",
    "<tr>\n",
    "\n",
    "<td>\n",
    "\n",
    "The Return Of The King\n",
    "\n",
    "</td>\n",
    "\n",
    "<td>\n",
    "\n",
    "Male\n",
    "\n",
    "</td>\n",
    "\n",
    "<td>\n",
    "\n",
    "Man\n",
    "\n",
    "</td>\n",
    "\n",
    "<td align=\"right\">\n",
    "\n",
    "2459\n",
    "\n",
    "</td>\n",
    "\n",
    "</tr>\n",
    "\n",
    "</table>"
   ]
  },
  {
   "cell_type": "markdown",
   "metadata": {
    "slideshow": {
     "slide_type": "slide"
    }
   },
   "source": [
    "### What is tidy data?\n",
    "\n",
    "A tidy data is one that is satified by these three criteria:\n",
    "\n",
    "- each row is a single observation,\n",
    "- each variable is a single column, and\n",
    "- each value is a single cell (i.e., its row, column position in the data frame is not shared with another value)\n",
    "\n",
    "<img src=\"https://d33wubrfki0l68.cloudfront.net/6f1ddb544fc5c69a2478e444ab8112fb0eea23f8/91adc/images/tidy-1.png\" width=\"550\" />\n",
    "*image source: [R for Data Science](https://r4ds.had.co.nz/) by Garrett Grolemund & Hadley Wickham*"
   ]
  },
  {
   "cell_type": "markdown",
   "metadata": {
    "slideshow": {
     "slide_type": "slide"
    }
   },
   "source": [
    "## Tools for getting it there:\n",
    "\n",
    "- `tidyverse` package functions from: \n",
    "    - `dplyr` package (`select`, `filter`, `mutate`, `group_by`, `summarize`)\n",
    "    \n",
    "    - `tidyr` package (`gather`)\n",
    "    \n",
    "    - `purrr` package (`*map*`)"
   ]
  },
  {
   "cell_type": "markdown",
   "metadata": {
    "slideshow": {
     "slide_type": "slide"
    }
   },
   "source": [
    "## Another big concept this week: iteration\n",
    "\n",
    "- iteration is when you need to do something repeatedly (e.g., ringing in and bagging groceries at the till)\n",
    "\n",
    "![](https://www.ecomcrew.com/wp-content/uploads/2015/07/bar-code-scanning-grocery-store.jpg)"
   ]
  },
  {
   "cell_type": "markdown",
   "metadata": {
    "slideshow": {
     "slide_type": "slide"
    }
   },
   "source": [
    "## Tidyverse tools for iteration\n",
    "\n",
    "1. `group_by` + `summarize`\n",
    "2. `*map*` "
   ]
  },
  {
   "cell_type": "markdown",
   "metadata": {
    "slideshow": {
     "slide_type": "slide"
    }
   },
   "source": [
    "## `group_by` + `summarize`\n",
    "\n",
    "- useful when you want to do something repeatedly to a group of rows\n",
    "- an example, we want to calculate the average life expectancy (`lifeExp`) for each continent from the `gapminder` data set\n"
   ]
  },
  {
   "cell_type": "code",
   "execution_count": 27,
   "metadata": {
    "slideshow": {
     "slide_type": "fragment"
    }
   },
   "outputs": [
    {
     "data": {
      "text/html": [
       "<table>\n",
       "<thead><tr><th scope=col>country</th><th scope=col>continent</th><th scope=col>year</th><th scope=col>lifeExp</th><th scope=col>pop</th><th scope=col>gdpPercap</th></tr></thead>\n",
       "<tbody>\n",
       "\t<tr><td>Afghanistan</td><td>Asia       </td><td>1952       </td><td>28.801     </td><td> 8425333   </td><td>779.4453   </td></tr>\n",
       "\t<tr><td>Afghanistan</td><td>Asia       </td><td>1957       </td><td>30.332     </td><td> 9240934   </td><td>820.8530   </td></tr>\n",
       "\t<tr><td>Afghanistan</td><td>Asia       </td><td>1962       </td><td>31.997     </td><td>10267083   </td><td>853.1007   </td></tr>\n",
       "\t<tr><td>Afghanistan</td><td>Asia       </td><td>1967       </td><td>34.020     </td><td>11537966   </td><td>836.1971   </td></tr>\n",
       "\t<tr><td>Afghanistan</td><td>Asia       </td><td>1972       </td><td>36.088     </td><td>13079460   </td><td>739.9811   </td></tr>\n",
       "\t<tr><td>Afghanistan</td><td>Asia       </td><td>1977       </td><td>38.438     </td><td>14880372   </td><td>786.1134   </td></tr>\n",
       "</tbody>\n",
       "</table>\n"
      ],
      "text/latex": [
       "\\begin{tabular}{r|llllll}\n",
       " country & continent & year & lifeExp & pop & gdpPercap\\\\\n",
       "\\hline\n",
       "\t Afghanistan & Asia        & 1952        & 28.801      &  8425333    & 779.4453   \\\\\n",
       "\t Afghanistan & Asia        & 1957        & 30.332      &  9240934    & 820.8530   \\\\\n",
       "\t Afghanistan & Asia        & 1962        & 31.997      & 10267083    & 853.1007   \\\\\n",
       "\t Afghanistan & Asia        & 1967        & 34.020      & 11537966    & 836.1971   \\\\\n",
       "\t Afghanistan & Asia        & 1972        & 36.088      & 13079460    & 739.9811   \\\\\n",
       "\t Afghanistan & Asia        & 1977        & 38.438      & 14880372    & 786.1134   \\\\\n",
       "\\end{tabular}\n"
      ],
      "text/markdown": [
       "\n",
       "country | continent | year | lifeExp | pop | gdpPercap | \n",
       "|---|---|---|---|---|---|\n",
       "| Afghanistan | Asia        | 1952        | 28.801      |  8425333    | 779.4453    | \n",
       "| Afghanistan | Asia        | 1957        | 30.332      |  9240934    | 820.8530    | \n",
       "| Afghanistan | Asia        | 1962        | 31.997      | 10267083    | 853.1007    | \n",
       "| Afghanistan | Asia        | 1967        | 34.020      | 11537966    | 836.1971    | \n",
       "| Afghanistan | Asia        | 1972        | 36.088      | 13079460    | 739.9811    | \n",
       "| Afghanistan | Asia        | 1977        | 38.438      | 14880372    | 786.1134    | \n",
       "\n",
       "\n"
      ],
      "text/plain": [
       "  country     continent year lifeExp pop      gdpPercap\n",
       "1 Afghanistan Asia      1952 28.801   8425333 779.4453 \n",
       "2 Afghanistan Asia      1957 30.332   9240934 820.8530 \n",
       "3 Afghanistan Asia      1962 31.997  10267083 853.1007 \n",
       "4 Afghanistan Asia      1967 34.020  11537966 836.1971 \n",
       "5 Afghanistan Asia      1972 36.088  13079460 739.9811 \n",
       "6 Afghanistan Asia      1977 38.438  14880372 786.1134 "
      ]
     },
     "metadata": {},
     "output_type": "display_data"
    }
   ],
   "source": [
    "library(gapminder)\n",
    "head(gapminder)"
   ]
  },
  {
   "cell_type": "markdown",
   "metadata": {
    "slideshow": {
     "slide_type": "slide"
    }
   },
   "source": [
    "## First, let's filter for only 1 year, 2007\n",
    "\n"
   ]
  },
  {
   "cell_type": "code",
   "execution_count": 28,
   "metadata": {
    "slideshow": {
     "slide_type": "fragment"
    }
   },
   "outputs": [
    {
     "data": {
      "text/html": [
       "<table>\n",
       "<thead><tr><th scope=col>country</th><th scope=col>continent</th><th scope=col>year</th><th scope=col>lifeExp</th><th scope=col>pop</th><th scope=col>gdpPercap</th></tr></thead>\n",
       "<tbody>\n",
       "\t<tr><td>Afghanistan</td><td>Asia       </td><td>2007       </td><td>43.828     </td><td>31889923   </td><td>  974.5803 </td></tr>\n",
       "\t<tr><td>Albania    </td><td>Europe     </td><td>2007       </td><td>76.423     </td><td> 3600523   </td><td> 5937.0295 </td></tr>\n",
       "\t<tr><td>Algeria    </td><td>Africa     </td><td>2007       </td><td>72.301     </td><td>33333216   </td><td> 6223.3675 </td></tr>\n",
       "\t<tr><td>Angola     </td><td>Africa     </td><td>2007       </td><td>42.731     </td><td>12420476   </td><td> 4797.2313 </td></tr>\n",
       "\t<tr><td>Argentina  </td><td>Americas   </td><td>2007       </td><td>75.320     </td><td>40301927   </td><td>12779.3796 </td></tr>\n",
       "\t<tr><td>Australia  </td><td>Oceania    </td><td>2007       </td><td>81.235     </td><td>20434176   </td><td>34435.3674 </td></tr>\n",
       "</tbody>\n",
       "</table>\n"
      ],
      "text/latex": [
       "\\begin{tabular}{r|llllll}\n",
       " country & continent & year & lifeExp & pop & gdpPercap\\\\\n",
       "\\hline\n",
       "\t Afghanistan & Asia        & 2007        & 43.828      & 31889923    &   974.5803 \\\\\n",
       "\t Albania     & Europe      & 2007        & 76.423      &  3600523    &  5937.0295 \\\\\n",
       "\t Algeria     & Africa      & 2007        & 72.301      & 33333216    &  6223.3675 \\\\\n",
       "\t Angola      & Africa      & 2007        & 42.731      & 12420476    &  4797.2313 \\\\\n",
       "\t Argentina   & Americas    & 2007        & 75.320      & 40301927    & 12779.3796 \\\\\n",
       "\t Australia   & Oceania     & 2007        & 81.235      & 20434176    & 34435.3674 \\\\\n",
       "\\end{tabular}\n"
      ],
      "text/markdown": [
       "\n",
       "country | continent | year | lifeExp | pop | gdpPercap | \n",
       "|---|---|---|---|---|---|\n",
       "| Afghanistan | Asia        | 2007        | 43.828      | 31889923    |   974.5803  | \n",
       "| Albania     | Europe      | 2007        | 76.423      |  3600523    |  5937.0295  | \n",
       "| Algeria     | Africa      | 2007        | 72.301      | 33333216    |  6223.3675  | \n",
       "| Angola      | Africa      | 2007        | 42.731      | 12420476    |  4797.2313  | \n",
       "| Argentina   | Americas    | 2007        | 75.320      | 40301927    | 12779.3796  | \n",
       "| Australia   | Oceania     | 2007        | 81.235      | 20434176    | 34435.3674  | \n",
       "\n",
       "\n"
      ],
      "text/plain": [
       "  country     continent year lifeExp pop      gdpPercap \n",
       "1 Afghanistan Asia      2007 43.828  31889923   974.5803\n",
       "2 Albania     Europe    2007 76.423   3600523  5937.0295\n",
       "3 Algeria     Africa    2007 72.301  33333216  6223.3675\n",
       "4 Angola      Africa    2007 42.731  12420476  4797.2313\n",
       "5 Argentina   Americas  2007 75.320  40301927 12779.3796\n",
       "6 Australia   Oceania   2007 81.235  20434176 34435.3674"
      ]
     },
     "metadata": {},
     "output_type": "display_data"
    }
   ],
   "source": [
    "library(tidyverse)\n",
    "gap_2007 <- gapminder %>% \n",
    "    filter(year == 2007)\n",
    "head(gap_2007)"
   ]
  },
  {
   "cell_type": "markdown",
   "metadata": {
    "slideshow": {
     "slide_type": "slide"
    }
   },
   "source": [
    "## Now let's use `group_by` + `summarize` to iterate\n",
    "\n",
    "Goal: calculate average life expectancy for each continent"
   ]
  },
  {
   "cell_type": "code",
   "execution_count": 10,
   "metadata": {
    "slideshow": {
     "slide_type": "fragment"
    }
   },
   "outputs": [
    {
     "data": {
      "text/html": [
       "<table>\n",
       "<thead><tr><th scope=col>continent</th><th scope=col>avg_lifeExp</th></tr></thead>\n",
       "<tbody>\n",
       "\t<tr><td>Africa  </td><td>54.80604</td></tr>\n",
       "\t<tr><td>Americas</td><td>73.60812</td></tr>\n",
       "\t<tr><td>Asia    </td><td>70.72848</td></tr>\n",
       "\t<tr><td>Europe  </td><td>77.64860</td></tr>\n",
       "\t<tr><td>Oceania </td><td>80.71950</td></tr>\n",
       "</tbody>\n",
       "</table>\n"
      ],
      "text/latex": [
       "\\begin{tabular}{r|ll}\n",
       " continent & avg\\_lifeExp\\\\\n",
       "\\hline\n",
       "\t Africa   & 54.80604\\\\\n",
       "\t Americas & 73.60812\\\\\n",
       "\t Asia     & 70.72848\\\\\n",
       "\t Europe   & 77.64860\\\\\n",
       "\t Oceania  & 80.71950\\\\\n",
       "\\end{tabular}\n"
      ],
      "text/markdown": [
       "\n",
       "continent | avg_lifeExp | \n",
       "|---|---|---|---|---|\n",
       "| Africa   | 54.80604 | \n",
       "| Americas | 73.60812 | \n",
       "| Asia     | 70.72848 | \n",
       "| Europe   | 77.64860 | \n",
       "| Oceania  | 80.71950 | \n",
       "\n",
       "\n"
      ],
      "text/plain": [
       "  continent avg_lifeExp\n",
       "1 Africa    54.80604   \n",
       "2 Americas  73.60812   \n",
       "3 Asia      70.72848   \n",
       "4 Europe    77.64860   \n",
       "5 Oceania   80.71950   "
      ]
     },
     "metadata": {},
     "output_type": "display_data"
    }
   ],
   "source": [
    "avg_lifeExp_2007 <- gap_2007 %>% \n",
    "    group_by(continent) %>% \n",
    "    summarize(avg_lifeExp = mean(lifeExp))\n",
    "avg_lifeExp_2007"
   ]
  },
  {
   "cell_type": "markdown",
   "metadata": {
    "slideshow": {
     "slide_type": "slide"
    }
   },
   "source": [
    "## `*map*` \n",
    "\n",
    "- useful when you want to do something repeatedly to almost anything (we'll give the example of columns in a data frame)\n",
    "- an example, we want to calculate the average value for each column from the `USAarrests` data to get the average across all US states"
   ]
  },
  {
   "cell_type": "code",
   "execution_count": 13,
   "metadata": {
    "scrolled": true,
    "slideshow": {
     "slide_type": "fragment"
    }
   },
   "outputs": [
    {
     "data": {
      "text/html": [
       "<table>\n",
       "<thead><tr><th></th><th scope=col>Murder</th><th scope=col>Assault</th><th scope=col>UrbanPop</th><th scope=col>Rape</th></tr></thead>\n",
       "<tbody>\n",
       "\t<tr><th scope=row>Alabama</th><td>13.2</td><td>236 </td><td>58  </td><td>21.2</td></tr>\n",
       "\t<tr><th scope=row>Alaska</th><td>10.0</td><td>263 </td><td>48  </td><td>44.5</td></tr>\n",
       "\t<tr><th scope=row>Arizona</th><td> 8.1</td><td>294 </td><td>80  </td><td>31.0</td></tr>\n",
       "\t<tr><th scope=row>Arkansas</th><td> 8.8</td><td>190 </td><td>50  </td><td>19.5</td></tr>\n",
       "\t<tr><th scope=row>California</th><td> 9.0</td><td>276 </td><td>91  </td><td>40.6</td></tr>\n",
       "\t<tr><th scope=row>Colorado</th><td> 7.9</td><td>204 </td><td>78  </td><td>38.7</td></tr>\n",
       "</tbody>\n",
       "</table>\n"
      ],
      "text/latex": [
       "\\begin{tabular}{r|llll}\n",
       "  & Murder & Assault & UrbanPop & Rape\\\\\n",
       "\\hline\n",
       "\tAlabama & 13.2 & 236  & 58   & 21.2\\\\\n",
       "\tAlaska & 10.0 & 263  & 48   & 44.5\\\\\n",
       "\tArizona &  8.1 & 294  & 80   & 31.0\\\\\n",
       "\tArkansas &  8.8 & 190  & 50   & 19.5\\\\\n",
       "\tCalifornia &  9.0 & 276  & 91   & 40.6\\\\\n",
       "\tColorado &  7.9 & 204  & 78   & 38.7\\\\\n",
       "\\end{tabular}\n"
      ],
      "text/markdown": [
       "\n",
       "| <!--/--> | Murder | Assault | UrbanPop | Rape | \n",
       "|---|---|---|---|---|---|\n",
       "| Alabama | 13.2 | 236  | 58   | 21.2 | \n",
       "| Alaska | 10.0 | 263  | 48   | 44.5 | \n",
       "| Arizona |  8.1 | 294  | 80   | 31.0 | \n",
       "| Arkansas |  8.8 | 190  | 50   | 19.5 | \n",
       "| California |  9.0 | 276  | 91   | 40.6 | \n",
       "| Colorado |  7.9 | 204  | 78   | 38.7 | \n",
       "\n",
       "\n"
      ],
      "text/plain": [
       "           Murder Assault UrbanPop Rape\n",
       "Alabama    13.2   236     58       21.2\n",
       "Alaska     10.0   263     48       44.5\n",
       "Arizona     8.1   294     80       31.0\n",
       "Arkansas    8.8   190     50       19.5\n",
       "California  9.0   276     91       40.6\n",
       "Colorado    7.9   204     78       38.7"
      ]
     },
     "metadata": {},
     "output_type": "display_data"
    }
   ],
   "source": [
    "head(USArrests)"
   ]
  },
  {
   "cell_type": "markdown",
   "metadata": {
    "slideshow": {
     "slide_type": "slide"
    }
   },
   "source": [
    "## use `*map*` to iterate"
   ]
  },
  {
   "cell_type": "code",
   "execution_count": 31,
   "metadata": {
    "slideshow": {
     "slide_type": "fragment"
    }
   },
   "outputs": [
    {
     "data": {
      "text/html": [
       "<dl>\n",
       "\t<dt>$Murder</dt>\n",
       "\t\t<dd>7.788</dd>\n",
       "\t<dt>$Assault</dt>\n",
       "\t\t<dd>170.76</dd>\n",
       "\t<dt>$UrbanPop</dt>\n",
       "\t\t<dd>65.54</dd>\n",
       "\t<dt>$Rape</dt>\n",
       "\t\t<dd>21.232</dd>\n",
       "</dl>\n"
      ],
      "text/latex": [
       "\\begin{description}\n",
       "\\item[\\$Murder] 7.788\n",
       "\\item[\\$Assault] 170.76\n",
       "\\item[\\$UrbanPop] 65.54\n",
       "\\item[\\$Rape] 21.232\n",
       "\\end{description}\n"
      ],
      "text/markdown": [
       "$Murder\n",
       ":   7.788\n",
       "$Assault\n",
       ":   170.76\n",
       "$UrbanPop\n",
       ":   65.54\n",
       "$Rape\n",
       ":   21.232\n",
       "\n",
       "\n"
      ],
      "text/plain": [
       "$Murder\n",
       "[1] 7.788\n",
       "\n",
       "$Assault\n",
       "[1] 170.76\n",
       "\n",
       "$UrbanPop\n",
       "[1] 65.54\n",
       "\n",
       "$Rape\n",
       "[1] 21.232\n"
      ]
     },
     "metadata": {},
     "output_type": "display_data"
    }
   ],
   "source": [
    "USavg <- map(USArrests, mean)\n",
    "USavg"
   ]
  },
  {
   "cell_type": "markdown",
   "metadata": {
    "slideshow": {
     "slide_type": "fragment"
    }
   },
   "source": [
    "But why isn't our output a data frame? "
   ]
  },
  {
   "cell_type": "markdown",
   "metadata": {
    "slideshow": {
     "slide_type": "slide"
    }
   },
   "source": [
    "##  `*map*` functions output depends on which function you use...\n",
    "\n",
    "| `map` function | Output |\n",
    "|----------|--------|\n",
    "| `map()` | list |\n",
    "| `map_lgl()` | logical vector |\n",
    "| `map_int()` | integer vector |\n",
    "| `map_dbl()` | double vector |\n",
    "| `map_chr()` | character vector |\n",
    "| `map_df()` | data frame |"
   ]
  },
  {
   "cell_type": "markdown",
   "metadata": {
    "slideshow": {
     "slide_type": "slide"
    }
   },
   "source": [
    "## use `map_df` instead:"
   ]
  },
  {
   "cell_type": "code",
   "execution_count": 32,
   "metadata": {
    "slideshow": {
     "slide_type": "fragment"
    }
   },
   "outputs": [
    {
     "data": {
      "text/html": [
       "<table>\n",
       "<thead><tr><th scope=col>Murder</th><th scope=col>Assault</th><th scope=col>UrbanPop</th><th scope=col>Rape</th></tr></thead>\n",
       "<tbody>\n",
       "\t<tr><td>7.788 </td><td>170.76</td><td>65.54 </td><td>21.232</td></tr>\n",
       "</tbody>\n",
       "</table>\n"
      ],
      "text/latex": [
       "\\begin{tabular}{r|llll}\n",
       " Murder & Assault & UrbanPop & Rape\\\\\n",
       "\\hline\n",
       "\t 7.788  & 170.76 & 65.54  & 21.232\\\\\n",
       "\\end{tabular}\n"
      ],
      "text/markdown": [
       "\n",
       "Murder | Assault | UrbanPop | Rape | \n",
       "|---|\n",
       "| 7.788  | 170.76 | 65.54  | 21.232 | \n",
       "\n",
       "\n"
      ],
      "text/plain": [
       "  Murder Assault UrbanPop Rape  \n",
       "1 7.788  170.76  65.54    21.232"
      ]
     },
     "metadata": {},
     "output_type": "display_data"
    }
   ],
   "source": [
    "USavg <- map_df(USArrests, mean)\n",
    "USavg"
   ]
  },
  {
   "cell_type": "markdown",
   "metadata": {
    "slideshow": {
     "slide_type": "slide"
    }
   },
   "source": [
    "## Go forth and wrangle!\n",
    "\n",
    "we'll be here to help if you need it!\n",
    "\n",
    "<img align=\"left\" src=\"https://media.giphy.com/media/Qgm6tIYrSQqC4/giphy.gif\">\n",
    "\n"
   ]
  },
  {
   "cell_type": "markdown",
   "metadata": {
    "slideshow": {
     "slide_type": "fragment"
    }
   },
   "source": [
    "*image source: https://media.giphy.com/media/Qgm6tIYrSQqC4/giphy-downsized-large.gif*"
   ]
  },
  {
   "cell_type": "markdown",
   "metadata": {
    "slideshow": {
     "slide_type": "slide"
    }
   },
   "source": [
    "## Class activity 1\n",
    "\n",
    "Calculate the mean petal length for the Iris (flower) species in the `iris` dataset:"
   ]
  },
  {
   "cell_type": "code",
   "execution_count": 24,
   "metadata": {
    "slideshow": {
     "slide_type": "fragment"
    }
   },
   "outputs": [
    {
     "data": {
      "text/html": [
       "<table>\n",
       "<thead><tr><th scope=col>Sepal.Length</th><th scope=col>Sepal.Width</th><th scope=col>Petal.Length</th><th scope=col>Petal.Width</th><th scope=col>Species</th></tr></thead>\n",
       "<tbody>\n",
       "\t<tr><td>5.1   </td><td>3.5   </td><td>1.4   </td><td>0.2   </td><td>setosa</td></tr>\n",
       "\t<tr><td>4.9   </td><td>3.0   </td><td>1.4   </td><td>0.2   </td><td>setosa</td></tr>\n",
       "\t<tr><td>4.7   </td><td>3.2   </td><td>1.3   </td><td>0.2   </td><td>setosa</td></tr>\n",
       "\t<tr><td>4.6   </td><td>3.1   </td><td>1.5   </td><td>0.2   </td><td>setosa</td></tr>\n",
       "\t<tr><td>5.0   </td><td>3.6   </td><td>1.4   </td><td>0.2   </td><td>setosa</td></tr>\n",
       "\t<tr><td>5.4   </td><td>3.9   </td><td>1.7   </td><td>0.4   </td><td>setosa</td></tr>\n",
       "</tbody>\n",
       "</table>\n"
      ],
      "text/latex": [
       "\\begin{tabular}{r|lllll}\n",
       " Sepal.Length & Sepal.Width & Petal.Length & Petal.Width & Species\\\\\n",
       "\\hline\n",
       "\t 5.1    & 3.5    & 1.4    & 0.2    & setosa\\\\\n",
       "\t 4.9    & 3.0    & 1.4    & 0.2    & setosa\\\\\n",
       "\t 4.7    & 3.2    & 1.3    & 0.2    & setosa\\\\\n",
       "\t 4.6    & 3.1    & 1.5    & 0.2    & setosa\\\\\n",
       "\t 5.0    & 3.6    & 1.4    & 0.2    & setosa\\\\\n",
       "\t 5.4    & 3.9    & 1.7    & 0.4    & setosa\\\\\n",
       "\\end{tabular}\n"
      ],
      "text/markdown": [
       "\n",
       "Sepal.Length | Sepal.Width | Petal.Length | Petal.Width | Species | \n",
       "|---|---|---|---|---|---|\n",
       "| 5.1    | 3.5    | 1.4    | 0.2    | setosa | \n",
       "| 4.9    | 3.0    | 1.4    | 0.2    | setosa | \n",
       "| 4.7    | 3.2    | 1.3    | 0.2    | setosa | \n",
       "| 4.6    | 3.1    | 1.5    | 0.2    | setosa | \n",
       "| 5.0    | 3.6    | 1.4    | 0.2    | setosa | \n",
       "| 5.4    | 3.9    | 1.7    | 0.4    | setosa | \n",
       "\n",
       "\n"
      ],
      "text/plain": [
       "  Sepal.Length Sepal.Width Petal.Length Petal.Width Species\n",
       "1 5.1          3.5         1.4          0.2         setosa \n",
       "2 4.9          3.0         1.4          0.2         setosa \n",
       "3 4.7          3.2         1.3          0.2         setosa \n",
       "4 4.6          3.1         1.5          0.2         setosa \n",
       "5 5.0          3.6         1.4          0.2         setosa \n",
       "6 5.4          3.9         1.7          0.4         setosa "
      ]
     },
     "metadata": {},
     "output_type": "display_data"
    },
    {
     "data": {
      "text/html": [
       "<table>\n",
       "<thead><tr><th scope=col>Species</th><th scope=col>mean_length</th></tr></thead>\n",
       "<tbody>\n",
       "\t<tr><td>setosa    </td><td>1.462     </td></tr>\n",
       "\t<tr><td>versicolor</td><td>4.260     </td></tr>\n",
       "\t<tr><td>virginica </td><td>5.552     </td></tr>\n",
       "</tbody>\n",
       "</table>\n"
      ],
      "text/latex": [
       "\\begin{tabular}{r|ll}\n",
       " Species & mean\\_length\\\\\n",
       "\\hline\n",
       "\t setosa     & 1.462     \\\\\n",
       "\t versicolor & 4.260     \\\\\n",
       "\t virginica  & 5.552     \\\\\n",
       "\\end{tabular}\n"
      ],
      "text/markdown": [
       "\n",
       "Species | mean_length | \n",
       "|---|---|---|\n",
       "| setosa     | 1.462      | \n",
       "| versicolor | 4.260      | \n",
       "| virginica  | 5.552      | \n",
       "\n",
       "\n"
      ],
      "text/plain": [
       "  Species    mean_length\n",
       "1 setosa     1.462      \n",
       "2 versicolor 4.260      \n",
       "3 virginica  5.552      "
      ]
     },
     "metadata": {},
     "output_type": "display_data"
    }
   ],
   "source": [
    "library(tidyverse)\n",
    "head(iris)\n",
    "petal_length <- iris %>% \n",
    "    group_by(Species) %>% \n",
    "    summarise(mean_length = mean(Petal.Length))\n",
    "petal_length"
   ]
  },
  {
   "cell_type": "markdown",
   "metadata": {
    "slideshow": {
     "slide_type": "slide"
    }
   },
   "source": [
    "## Class activity 2\n",
    "\n",
    "Use `map_df` to caclulate the mean of each of the numerical columns in the `iris` dataset."
   ]
  },
  {
   "cell_type": "code",
   "execution_count": 26,
   "metadata": {},
   "outputs": [
    {
     "data": {
      "text/html": [
       "<table>\n",
       "<thead><tr><th scope=col>Sepal.Length</th><th scope=col>Sepal.Width</th><th scope=col>Petal.Length</th><th scope=col>Petal.Width</th></tr></thead>\n",
       "<tbody>\n",
       "\t<tr><td>5.843333</td><td>3.057333</td><td>3.758   </td><td>1.199333</td></tr>\n",
       "</tbody>\n",
       "</table>\n"
      ],
      "text/latex": [
       "\\begin{tabular}{r|llll}\n",
       " Sepal.Length & Sepal.Width & Petal.Length & Petal.Width\\\\\n",
       "\\hline\n",
       "\t 5.843333 & 3.057333 & 3.758    & 1.199333\\\\\n",
       "\\end{tabular}\n"
      ],
      "text/markdown": [
       "\n",
       "Sepal.Length | Sepal.Width | Petal.Length | Petal.Width | \n",
       "|---|\n",
       "| 5.843333 | 3.057333 | 3.758    | 1.199333 | \n",
       "\n",
       "\n"
      ],
      "text/plain": [
       "  Sepal.Length Sepal.Width Petal.Length Petal.Width\n",
       "1 5.843333     3.057333    3.758        1.199333   "
      ]
     },
     "metadata": {},
     "output_type": "display_data"
    }
   ],
   "source": [
    "avg_all <- iris %>% \n",
    "    select(-Species) %>% \n",
    "    map_df(mean)\n",
    "avg_all"
   ]
  },
  {
   "cell_type": "markdown",
   "metadata": {
    "slideshow": {
     "slide_type": "slide"
    }
   },
   "source": [
    "## What did we learn?\n",
    "\n",
    "- anti-`select` is `-COLUMN_NAME`\n",
    "- iteration (`map` & `group_by` + `summarize`)\n",
    "- `gather` (wide to long)\n",
    "\n",
    "\n",
    "\n"
   ]
  }
 ],
 "metadata": {
  "celltoolbar": "Slideshow",
  "kernelspec": {
   "display_name": "R",
   "language": "R",
   "name": "ir"
  },
  "language_info": {
   "codemirror_mode": "r",
   "file_extension": ".r",
   "mimetype": "text/x-r-source",
   "name": "R",
   "pygments_lexer": "r",
   "version": "3.5.1"
  }
 },
 "nbformat": 4,
 "nbformat_minor": 2
}
