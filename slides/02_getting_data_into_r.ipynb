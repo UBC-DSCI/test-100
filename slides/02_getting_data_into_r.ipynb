{
 "cells": [
  {
   "cell_type": "markdown",
   "metadata": {
    "slideshow": {
     "slide_type": "slide"
    }
   },
   "source": [
    "# DSCI 100 - Introduction to Data Science\n",
    "\n",
    "\n",
    "## Lecture 2 - Getting data into R\n",
    "\n",
    "\n",
    "### 2019-01-10"
   ]
  },
  {
   "cell_type": "markdown",
   "metadata": {
    "slideshow": {
     "slide_type": "slide"
    }
   },
   "source": [
    "## Housekeeping\n",
    "\n",
    "- Late assignments for worksheet_01 should now be able to be uploaded to Canvas\n",
    "- The [course late policy](https://github.com/UBC-DSCI/dsci-100#lateabsence-policies) applies (except in exceptional circumstances) "
   ]
  },
  {
   "cell_type": "markdown",
   "metadata": {
    "slideshow": {
     "slide_type": "slide"
    }
   },
   "source": [
    "## Last week\n",
    "\n",
    "- Introduction to R + Jupyter and a sprinkle of data analysis"
   ]
  },
  {
   "cell_type": "markdown",
   "metadata": {
    "slideshow": {
     "slide_type": "fragment"
    }
   },
   "source": [
    "![](https://media.giphy.com/media/3og0ICZh82LEsNjHoc/giphy.gif)"
   ]
  },
  {
   "cell_type": "markdown",
   "metadata": {
    "slideshow": {
     "slide_type": "slide"
    }
   },
   "source": [
    "# Get that data into R!"
   ]
  },
  {
   "cell_type": "markdown",
   "metadata": {
    "slideshow": {
     "slide_type": "fragment"
    }
   },
   "source": [
    "- 4 most common ways to do this in Data Science\n",
    "    1. **read in a plain text file where data is in the shape of a rectangle (think spreadsheet)**\n",
    "    2. from a database (e.g., SQL)\n",
    "    3. **scrape data from the web**\n",
    "    4. use a web API to read data from a website"
   ]
  },
  {
   "cell_type": "markdown",
   "metadata": {
    "slideshow": {
     "slide_type": "slide"
    }
   },
   "source": [
    "## A note on scraping data from the web\n",
    "\n",
    "- More and more websites don't want you scraping \n",
    "- They instead are providing \"easier\" ways for you to access the data as opposed to scraping it (which they can regulate and know who you are)\n",
    "- So, TL;DR read the Terms of Service for ANY webpage you are planning on scraping\n",
    "    - they're long to read, so search for \"scraping\", \"auto\", \"bot\", etc to find the relevant section"
   ]
  },
  {
   "cell_type": "markdown",
   "metadata": {
    "slideshow": {
     "slide_type": "slide"
    }
   },
   "source": [
    "## A note on the scraping exercises in worksheet_02 on the server\n",
    "\n",
    "There is a known error that we have been getting, it looks like this:\n",
    "\n",
    "```Error in xpath_combinedselector(<S4 object of class structure(\"CombinedSelector\", package = \"selectr\")>): could not find function \"xpath_combinedselector\"```\n",
    "\n",
    "#### Honest answer/solution:\n",
    "- We have not been able to pinpoint exactly what is going wrong.\n",
    "- BUT we have been able to \"work around it\" by a couple different solutions:\n",
    "    - install `selectr` package and restart kernel (might take 1-2 restarts...)\n",
    "    - use the XPath from the selectorgadget instead of the CSS Selector (see Aaron's code on next slide)"
   ]
  },
  {
   "cell_type": "markdown",
   "metadata": {
    "slideshow": {
     "slide_type": "slide"
    }
   },
   "source": [
    "## Put this step in context - the Data Science workflow\n",
    "\n",
    "![](https://d33wubrfki0l68.cloudfront.net/571b056757d68e6df81a3e3853f54d3c76ad6efc/32d37/diagrams/data-science.png)\n",
    "\n",
    "source: [R for Data Science](https://r4ds.had.co.nz/) by Grolemund & Wickham"
   ]
  },
  {
   "cell_type": "markdown",
   "metadata": {
    "slideshow": {
     "slide_type": "slide"
    }
   },
   "source": [
    "# Note about data import\n",
    "\n",
    "- It is important!\n",
    "- Think of it as tying your shoes before you run, it might be \"boring\" but if done wrong it will trip you up later!\n",
    "\n",
    "![](https://media.giphy.com/media/Se449o7yNjziw/giphy.gif)"
   ]
  },
  {
   "cell_type": "markdown",
   "metadata": {
    "slideshow": {
     "slide_type": "slide"
    }
   },
   "source": [
    "## Questions?\n",
    "\n",
    "- General?\n",
    "- Specific?"
   ]
  },
  {
   "cell_type": "markdown",
   "metadata": {
    "slideshow": {
     "slide_type": "slide"
    }
   },
   "source": [
    "## Let's do this!\n",
    "\n",
    "![](https://media.giphy.com/media/zaezT79s3Ng7C/giphy.gif)"
   ]
  },
  {
   "cell_type": "markdown",
   "metadata": {
    "slideshow": {
     "slide_type": "slide"
    }
   },
   "source": [
    "## Class activity:\n",
    "\n",
    "- In the group at your table, try to read in this dataset from the web: https://archive.ics.uci.edu/ml/machine-learning-databases/00236/seeds_dataset.txt"
   ]
  },
  {
   "cell_type": "markdown",
   "metadata": {
    "slideshow": {
     "slide_type": "slide"
    }
   },
   "source": [
    "## What did we learn?\n",
    "\n",
    "- `read_table2` allows us to read multiple whitespace delimited files\n",
    "- read the terms of service before scraping\n",
    "- when to use the different forms `read_delim` (or `read_*`)"
   ]
  }
 ],
 "metadata": {
  "celltoolbar": "Slideshow",
  "kernelspec": {
   "display_name": "R",
   "language": "R",
   "name": "ir"
  },
  "language_info": {
   "codemirror_mode": "r",
   "file_extension": ".r",
   "mimetype": "text/x-r-source",
   "name": "R",
   "pygments_lexer": "r",
   "version": "3.5.1"
  }
 },
 "nbformat": 4,
 "nbformat_minor": 2
}
